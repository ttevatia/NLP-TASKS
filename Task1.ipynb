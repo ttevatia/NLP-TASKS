{
 "cells": [
  {
   "cell_type": "code",
   "execution_count": 2,
   "metadata": {},
   "outputs": [],
   "source": [
    "text=\"William Bradley Pitt (born December 18, 1963) is an American actor and film producer. He has received multiple awards, including two Golden Globe Awards and an Academy Award for his acting, in addition to another Academy Award and a Primetime Emmy Award as producer under his production company, Plan B Entertainment.Pitt first gained recognition as a cowboy hitchhiker in the road movie Thelma & Louise (1991). His first leading roles in big-budget productions came with the drama films A River Runs Through It (1992) and Legends of the Fall (1994), and the horror film Interview with the Vampire (1994). He gave critically acclaimed performances in the crime thriller Seven (1995) and the science fiction film 12 Monkeys (1995), the latter earning him a Golden Globe Award for Best Supporting Actor and an Academy Award nomination.\""
   ]
  },
  {
   "cell_type": "code",
   "execution_count": 3,
   "metadata": {},
   "outputs": [
    {
     "name": "stdout",
     "output_type": "stream",
     "text": [
      "William Bradley Pitt (born December 18, 1963) is an American actor and film producer. He has received multiple awards, including two Golden Globe Awards and an Academy Award for his acting, in addition to another Academy Award and a Primetime Emmy Award as producer under his production company, Plan B Entertainment.Pitt first gained recognition as a cowboy hitchhiker in the road movie Thelma & Louise (1991). His first leading roles in big-budget productions came with the drama films A River Runs Through It (1992) and Legends of the Fall (1994), and the horror film Interview with the Vampire (1994). He gave critically acclaimed performances in the crime thriller Seven (1995) and the science fiction film 12 Monkeys (1995), the latter earning him a Golden Globe Award for Best Supporting Actor and an Academy Award nomination.\n"
     ]
    }
   ],
   "source": [
    "print(text)"
   ]
  },
  {
   "cell_type": "code",
   "execution_count": 4,
   "metadata": {},
   "outputs": [
    {
     "data": {
      "text/plain": [
       "['William',\n",
       " 'Bradley',\n",
       " 'Pitt',\n",
       " '(born',\n",
       " 'December',\n",
       " '18,',\n",
       " '1963)',\n",
       " 'is',\n",
       " 'an',\n",
       " 'American',\n",
       " 'actor',\n",
       " 'and',\n",
       " 'film',\n",
       " 'producer.',\n",
       " 'He',\n",
       " 'has',\n",
       " 'received',\n",
       " 'multiple',\n",
       " 'awards,',\n",
       " 'including',\n",
       " 'two',\n",
       " 'Golden',\n",
       " 'Globe',\n",
       " 'Awards',\n",
       " 'and',\n",
       " 'an',\n",
       " 'Academy',\n",
       " 'Award',\n",
       " 'for',\n",
       " 'his',\n",
       " 'acting,',\n",
       " 'in',\n",
       " 'addition',\n",
       " 'to',\n",
       " 'another',\n",
       " 'Academy',\n",
       " 'Award',\n",
       " 'and',\n",
       " 'a',\n",
       " 'Primetime',\n",
       " 'Emmy',\n",
       " 'Award',\n",
       " 'as',\n",
       " 'producer',\n",
       " 'under',\n",
       " 'his',\n",
       " 'production',\n",
       " 'company,',\n",
       " 'Plan',\n",
       " 'B',\n",
       " 'Entertainment.Pitt',\n",
       " 'first',\n",
       " 'gained',\n",
       " 'recognition',\n",
       " 'as',\n",
       " 'a',\n",
       " 'cowboy',\n",
       " 'hitchhiker',\n",
       " 'in',\n",
       " 'the',\n",
       " 'road',\n",
       " 'movie',\n",
       " 'Thelma',\n",
       " '&',\n",
       " 'Louise',\n",
       " '(1991).',\n",
       " 'His',\n",
       " 'first',\n",
       " 'leading',\n",
       " 'roles',\n",
       " 'in',\n",
       " 'big-budget',\n",
       " 'productions',\n",
       " 'came',\n",
       " 'with',\n",
       " 'the',\n",
       " 'drama',\n",
       " 'films',\n",
       " 'A',\n",
       " 'River',\n",
       " 'Runs',\n",
       " 'Through',\n",
       " 'It',\n",
       " '(1992)',\n",
       " 'and',\n",
       " 'Legends',\n",
       " 'of',\n",
       " 'the',\n",
       " 'Fall',\n",
       " '(1994),',\n",
       " 'and',\n",
       " 'the',\n",
       " 'horror',\n",
       " 'film',\n",
       " 'Interview',\n",
       " 'with',\n",
       " 'the',\n",
       " 'Vampire',\n",
       " '(1994).',\n",
       " 'He',\n",
       " 'gave',\n",
       " 'critically',\n",
       " 'acclaimed',\n",
       " 'performances',\n",
       " 'in',\n",
       " 'the',\n",
       " 'crime',\n",
       " 'thriller',\n",
       " 'Seven',\n",
       " '(1995)',\n",
       " 'and',\n",
       " 'the',\n",
       " 'science',\n",
       " 'fiction',\n",
       " 'film',\n",
       " '12',\n",
       " 'Monkeys',\n",
       " '(1995),',\n",
       " 'the',\n",
       " 'latter',\n",
       " 'earning',\n",
       " 'him',\n",
       " 'a',\n",
       " 'Golden',\n",
       " 'Globe',\n",
       " 'Award',\n",
       " 'for',\n",
       " 'Best',\n",
       " 'Supporting',\n",
       " 'Actor',\n",
       " 'and',\n",
       " 'an',\n",
       " 'Academy',\n",
       " 'Award',\n",
       " 'nomination.']"
      ]
     },
     "execution_count": 4,
     "metadata": {},
     "output_type": "execute_result"
    }
   ],
   "source": [
    "text.split(\" \")"
   ]
  },
  {
   "cell_type": "code",
   "execution_count": 5,
   "metadata": {},
   "outputs": [],
   "source": [
    "text1=\"Pitt starred in Fight Club (1999) and the heist film Ocean's Eleven (2001), as well as its sequels, Ocean's Twelve (2004) and Ocean's Thirteen (2007). His greatest commercial successes have been Ocean's Eleven (2001), Troy (2004), Mr. & Mrs. Smith (2005), World War Z (2013), and Once Upon a Time in Hollywood (2019), for which he won a second Golden Globe Award and the Academy Award for Best Supporting Actor. Pitt's other Academy Award nominated performances were in The Curious Case of Benjamin Button (2008) and Moneyball (2011). He produced The Departed (2006) and 12 Years a Slave (2013), both of which won the Academy Award for Best Picture, and also The Tree of Life (2011), Moneyball (2011), and The Big Short (2015), all of which were nominated for Best Picture.\""
   ]
  },
  {
   "cell_type": "code",
   "execution_count": 6,
   "metadata": {},
   "outputs": [
    {
     "name": "stdout",
     "output_type": "stream",
     "text": [
      "Pitt starred in Fight Club (1999) and the heist film Ocean's Eleven (2001), as well as its sequels, Ocean's Twelve (2004) and Ocean's Thirteen (2007). His greatest commercial successes have been Ocean's Eleven (2001), Troy (2004), Mr. & Mrs. Smith (2005), World War Z (2013), and Once Upon a Time in Hollywood (2019), for which he won a second Golden Globe Award and the Academy Award for Best Supporting Actor. Pitt's other Academy Award nominated performances were in The Curious Case of Benjamin Button (2008) and Moneyball (2011). He produced The Departed (2006) and 12 Years a Slave (2013), both of which won the Academy Award for Best Picture, and also The Tree of Life (2011), Moneyball (2011), and The Big Short (2015), all of which were nominated for Best Picture.\n"
     ]
    }
   ],
   "source": [
    "print(text1)"
   ]
  },
  {
   "cell_type": "code",
   "execution_count": 7,
   "metadata": {},
   "outputs": [
    {
     "name": "stdout",
     "output_type": "stream",
     "text": [
      "William Bradley Pitt (born December 18, 1963) is an American actor and film producer. He has received multiple awards, including two Golden Globe Awards and an Academy Award for his acting, in addition to another Academy Award and a Primetime Emmy Award as producer under his production company, Plan B Entertainment.Pitt first gained recognition as a cowboy hitchhiker in the road movie Thelma & Louise (1991). His first leading roles in big-budget productions came with the drama films A River Runs Through It (1992) and Legends of the Fall (1994), and the horror film Interview with the Vampire (1994). He gave critically acclaimed performances in the crime thriller Seven (1995) and the science fiction film 12 Monkeys (1995), the latter earning him a Golden Globe Award for Best Supporting Actor and an Academy Award nomination.\n"
     ]
    }
   ],
   "source": [
    "print(text)"
   ]
  },
  {
   "cell_type": "code",
   "execution_count": 8,
   "metadata": {},
   "outputs": [],
   "source": [
    "text=\"जीवन की लम्बाई नहीं गहराई मायने रखती हैं।\""
   ]
  },
  {
   "cell_type": "code",
   "execution_count": 9,
   "metadata": {},
   "outputs": [
    {
     "name": "stdout",
     "output_type": "stream",
     "text": [
      "जीवन की लम्बाई नहीं गहराई मायने रखती हैं।\n"
     ]
    }
   ],
   "source": [
    "print(text)"
   ]
  },
  {
   "cell_type": "code",
   "execution_count": null,
   "metadata": {},
   "outputs": [],
   "source": []
  }
 ],
 "metadata": {
  "kernelspec": {
   "display_name": "Python 3",
   "language": "python",
   "name": "python3"
  },
  "language_info": {
   "codemirror_mode": {
    "name": "ipython",
    "version": 3
   },
   "file_extension": ".py",
   "mimetype": "text/x-python",
   "name": "python",
   "nbconvert_exporter": "python",
   "pygments_lexer": "ipython3",
   "version": "3.7.4"
  }
 },
 "nbformat": 4,
 "nbformat_minor": 2
}
